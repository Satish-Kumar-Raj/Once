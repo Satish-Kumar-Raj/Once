{
 "cells": [
  {
   "cell_type": "code",
   "execution_count": null,
   "id": "88f6b38e",
   "metadata": {},
   "outputs": [],
   "source": [
    " class Atm:\n",
    "    def __init__(self):\n",
    "        self.pin=\"\"\n",
    "        self.balance=0\n",
    "        self.menu()\n",
    "    \n",
    "    \n",
    "    def menu(self):\n",
    "        self.choice=input('''\n",
    "        Welcome to Bank .............\n",
    "        1. for create pin \n",
    "        2. for cheak balance\n",
    "        3. for withdraw\n",
    "        4. for debit \n",
    "        5. change password \n",
    "            ''')\n",
    "        if self.choice==\"1\":\n",
    "            #print(\"create pin \")\n",
    "            self.createpin()\n",
    "        elif self.choice==\"2\":\n",
    "            #print(\"Cheak balance : \")\n",
    "            self.cheak_balance()\n",
    "        elif self.choice==\"3\":\n",
    "            #print(\"withdraw \")\n",
    "            self.withdraw()\n",
    "        elif self.choice==\"4\":\n",
    "            #print(\"Debit\")\n",
    "            self.debit()\n",
    "        elif self.choice==\"5\":\n",
    "            self.change_pin()\n",
    "        else:\n",
    "            print(\"Exit\")\n",
    "    def createpin(self):\n",
    "        self.pin=input(\"Enter Pin : \")\n",
    "        self.balance=int(input(\"Enter balance : \"))\n",
    "        print(\"Successfully created pin \")\n",
    "        self.menu()\n",
    "    \n",
    "    def cheak_balance(self):\n",
    "        self.userpin=input(\"Enter Your pin : \")\n",
    "        if self.pin==self.userpin:\n",
    "            print(\"Your balance is : \",self.balance)\n",
    "        else:\n",
    "            print(\"Incorrect pin.....\")\n",
    "        self.menu()\n",
    "            \n",
    "    def withdraw(self):\n",
    "        self.userpin=input(\"Enter The pin \")\n",
    "        if self.pin==self.userpin:\n",
    "            amount=int(input(\"Enter Amount : \"))\n",
    "            if amount<self.balance:\n",
    "                self.balance=self.balance-amount\n",
    "                print(\"Successfully withdraw....\")\n",
    "            else:\n",
    "                print(\"Nikal Bikhari saale\")\n",
    "        else:\n",
    "            print(\"Chor saale ..... \")\n",
    "        self.menu()\n",
    "    \n",
    "    \n",
    "    \n",
    "    def debit(self):\n",
    "        self.userpin=input(\"Enter your pin : \")\n",
    "        if self.pin==self.userpin:\n",
    "            amount=int(input(\"Enter amount to debit : \"))\n",
    "            self.balance=self.balance+amount\n",
    "            print(\"Successfully debit in your bank.........\")\n",
    "        else:\n",
    "            print(\"Kahe bhaiya dusore ke khate me jama kar rahe ho  \")\n",
    "        self.menu()\n",
    "    \n",
    "    \n",
    "    \n",
    "    def change_pin(self):\n",
    "        self.userpin=input(\"Enter old pin \")\n",
    "        if self.pin==self.userpin:\n",
    "                self.new_pin=input(\"Enter new pin \")\n",
    "                self.again_new_pin=input(\"Enter again new pin : \")\n",
    "                if self.new_pin==self.again_new_pin:\n",
    "                    self.pin=self.again_new_pin\n",
    "                    print(\"Successfully change password .......\")\n",
    "                else:\n",
    "                    print(\"pin not match \")\n",
    "        else:\n",
    "            print(\"please enter correct pin \")\n",
    "        self.menu()\n",
    "    \n",
    "    \n",
    "    \n",
    "    \n",
    "    \n",
    "    \n",
    "    \n",
    "    \n",
    "    \n",
    "obj=Atm()\n"
   ]
  },
  {
   "cell_type": "code",
   "execution_count": null,
   "id": "77ac4508",
   "metadata": {},
   "outputs": [],
   "source": [
    "\n",
    "name=input(\"Enter the name : \")\n",
    "if name==\"RAM\":\n",
    "    print(\"*\"*30)\n",
    "    print(\"Name is \",name)\n",
    "    print(\"*\"*30)\n",
    "else:\n",
    "    print(\"You are gest user \")\n",
    "\n",
    "\n",
    "\n",
    "\n",
    "\n",
    "\n",
    "\n",
    "\n",
    "\n"
   ]
  },
  {
   "cell_type": "code",
   "execution_count": null,
   "id": "58a8ee27",
   "metadata": {},
   "outputs": [],
   "source": [
    "name=input(\"Enter Name : \")\n",
    "for i in name:\n",
    "    print(i,end=\"\\t\")"
   ]
  },
  {
   "cell_type": "code",
   "execution_count": 33,
   "id": "065b2551",
   "metadata": {},
   "outputs": [
    {
     "name": "stdout",
     "output_type": "stream",
     "text": [
      "Chal guess kar : 19\n",
      "guess higher\n",
      "Chal guess kar : 87\n",
      "guess lower \n",
      "Chal guess kar : 65\n",
      "guess higher\n",
      "Chal guess kar : 78\n",
      "guess higher\n",
      "Chal guess kar : 82\n",
      "guess lower \n",
      "Chal guess kar : 80\n",
      "guess lower \n",
      "Chal guess kar : 81\n",
      "guess lower \n",
      "Chal guess kar : 79\n",
      "Sahi Jawab\n",
      "Your took  8 Attempt\n"
     ]
    }
   ],
   "source": [
    "import random\n",
    "jackpot=random.randint(1,100)\n",
    "counter=1\n",
    "guess=int(input(\"Chal guess kar : \"))\n",
    "while guess != jackpot:\n",
    "    if jackpot>guess:\n",
    "        print(\"guess higher\")\n",
    "    else:\n",
    "        print(\"guess lower \")\n",
    "    #print(jackpot)\n",
    "    guess=int(input(\"Chal guess kar : \"))\n",
    "    counter+=1\n",
    "print(\"Sahi Jawab\")\n",
    "print(\"Your took \",counter,\"Attempt\")"
   ]
  },
  {
   "cell_type": "code",
   "execution_count": null,
   "id": "bd19c9ee",
   "metadata": {},
   "outputs": [],
   "source": []
  },
  {
   "cell_type": "code",
   "execution_count": 45,
   "id": "cc572c53",
   "metadata": {},
   "outputs": [
    {
     "name": "stdout",
     "output_type": "stream",
     "text": [
      "-7\n",
      "Original List ................\n",
      "[10, 200, 30, 40, 50]\n",
      "Shuffle list \n",
      "[40, 10, 200, 30, 50]\n"
     ]
    }
   ],
   "source": []
  },
  {
   "cell_type": "code",
   "execution_count": 46,
   "id": "a399dd16",
   "metadata": {},
   "outputs": [
    {
     "name": "stdout",
     "output_type": "stream",
     "text": [
      "-7\n",
      "Original List ................\n",
      "[10, 200, 30, 40, 50]\n",
      "Shuffle list \n",
      "[40, 10, 200, 30, 50]\n"
     ]
    }
   ],
   "source": [
    "import random \n",
    "list1=[10,3,20,40,67]\n",
    "#print(random.choice(list1))\n",
    "\n",
    "random.seed(9)\n",
    "\n",
    "#print(random.random())\n",
    "r=random.randint(-10,-4)\n",
    "\n",
    "print(r)\n",
    "\n",
    "sample_list=[10,200,30,40,50]\n",
    "print(\"Original List ................\")\n",
    "\n",
    "print(sample_list)\n",
    "\n",
    "\n",
    "print(\"Shuffle list \")\n",
    "random.shuffle(sample_list)\n",
    "print(sample_list)"
   ]
  },
  {
   "cell_type": "code",
   "execution_count": null,
   "id": "679fc5c8",
   "metadata": {},
   "outputs": [],
   "source": []
  },
  {
   "cell_type": "code",
   "execution_count": null,
   "id": "a0f267b1",
   "metadata": {},
   "outputs": [],
   "source": []
  },
  {
   "cell_type": "code",
   "execution_count": null,
   "id": "559caf1c",
   "metadata": {},
   "outputs": [],
   "source": []
  },
  {
   "cell_type": "code",
   "execution_count": null,
   "id": "70c5408f",
   "metadata": {},
   "outputs": [],
   "source": []
  },
  {
   "cell_type": "code",
   "execution_count": null,
   "id": "077649b1",
   "metadata": {},
   "outputs": [],
   "source": []
  },
  {
   "cell_type": "code",
   "execution_count": null,
   "id": "d38bcf29",
   "metadata": {},
   "outputs": [],
   "source": []
  },
  {
   "cell_type": "code",
   "execution_count": null,
   "id": "7ca0422b",
   "metadata": {},
   "outputs": [],
   "source": []
  },
  {
   "cell_type": "code",
   "execution_count": null,
   "id": "e0c44260",
   "metadata": {},
   "outputs": [],
   "source": []
  }
 ],
 "metadata": {
  "kernelspec": {
   "display_name": "Python 3 (ipykernel)",
   "language": "python",
   "name": "python3"
  },
  "language_info": {
   "codemirror_mode": {
    "name": "ipython",
    "version": 3
   },
   "file_extension": ".py",
   "mimetype": "text/x-python",
   "name": "python",
   "nbconvert_exporter": "python",
   "pygments_lexer": "ipython3",
   "version": "3.10.6"
  }
 },
 "nbformat": 4,
 "nbformat_minor": 5
}
